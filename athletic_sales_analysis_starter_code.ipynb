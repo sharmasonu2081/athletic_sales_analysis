{
 "cells": [
  {
   "cell_type": "code",
   "execution_count": 21,
   "metadata": {},
   "outputs": [],
   "source": [
    "# Import Libraries and Dependencies\n",
    "import pandas as pd"
   ]
  },
  {
   "cell_type": "markdown",
   "metadata": {},
   "source": [
    "### 1. Combine and Clean the Data\n",
    "#### Import CSVs"
   ]
  },
  {
   "cell_type": "code",
   "execution_count": 22,
   "metadata": {},
   "outputs": [],
   "source": [
    "# Read the CSV files into DataFrames.\n",
    "# Load the CSV files into DataFrames\n",
    "df_2020 = pd.read_csv('athletic_sales_2020.csv')\n",
    "df_2021 = pd.read_csv('athletic_sales_2021.csv')\n"
   ]
  },
  {
   "cell_type": "code",
   "execution_count": 23,
   "metadata": {},
   "outputs": [
    {
     "name": "stdout",
     "output_type": "stream",
     "text": [
      "Displaying the 2020 sales data:\n",
      "         retailer  retailer_id invoice_date     region         state  \\\n",
      "0     Foot Locker      1185732       1/1/20  Northeast      New York   \n",
      "1     Foot Locker      1185732       1/1/20  Northeast  Pennsylvania   \n",
      "2     Foot Locker      1185732       1/1/20  Northeast  Pennsylvania   \n",
      "3     Foot Locker      1185732       1/1/20  Northeast      New York   \n",
      "4     Foot Locker      1185732       1/1/20  Northeast  Pennsylvania   \n",
      "...           ...          ...          ...        ...           ...   \n",
      "1292    West Gear      1128299     12/30/20       West    California   \n",
      "1293    West Gear      1128299     12/30/20       West    California   \n",
      "1294       Kohl's      1189833     12/30/20    Midwest     Minnesota   \n",
      "1295       Kohl's      1189833     12/30/20    Midwest     Minnesota   \n",
      "1296    West Gear      1128299     12/30/20       West    California   \n",
      "\n",
      "               city                  product  price_per_unit  units_sold  \\\n",
      "0          New York    Men's Street Footwear              50        1200   \n",
      "1      Philadelphia          Women's Apparel              68          83   \n",
      "2      Philadelphia          Women's Apparel              75         275   \n",
      "3          New York    Men's Street Footwear              34         384   \n",
      "4      Philadelphia          Women's Apparel              53          83   \n",
      "...             ...                      ...             ...         ...   \n",
      "1292  San Francisco          Women's Apparel              72         203   \n",
      "1293  San Francisco          Women's Apparel              80         700   \n",
      "1294    Minneapolis  Women's Street Footwear              41         119   \n",
      "1295    Minneapolis  Women's Street Footwear              45         475   \n",
      "1296  San Francisco          Women's Apparel              62         245   \n",
      "\n",
      "      total_sales  operating_profit sales_method  \n",
      "0          600000         300000.00     In-store  \n",
      "1            5644           2426.92       Online  \n",
      "2          206250          61875.00       Outlet  \n",
      "3           13056           6789.12       Outlet  \n",
      "4            4399           1407.68       Outlet  \n",
      "...           ...               ...          ...  \n",
      "1292        14616           3946.32       Online  \n",
      "1293       560000          84000.00       Outlet  \n",
      "1294         4879           2878.61       Online  \n",
      "1295       213750          96187.50       Outlet  \n",
      "1296        15190           2886.10       Outlet  \n",
      "\n",
      "[1297 rows x 12 columns]\n",
      "\n",
      "Columns and data types in the 2020 sales DataFrame:\n",
      "retailer             object\n",
      "retailer_id           int64\n",
      "invoice_date         object\n",
      "region               object\n",
      "state                object\n",
      "city                 object\n",
      "product              object\n",
      "price_per_unit        int64\n",
      "units_sold            int64\n",
      "total_sales           int64\n",
      "operating_profit    float64\n",
      "sales_method         object\n",
      "dtype: object\n"
     ]
    }
   ],
   "source": [
    "# Display the 2020 sales DataFrame\n",
    "# Display the columns and data types of each DataFrame\n",
    "\n",
    "\n",
    "# Display the df_2020 DataFrame\n",
    "print(\"Displaying the 2020 sales data:\")\n",
    "print(df_2020)\n",
    "\n",
    "# Display the columns and data types of the df_2020 DataFrame\n",
    "print(\"\\nColumns and data types in the 2020 sales DataFrame:\")\n",
    "print(df_2020.dtypes)\n",
    "\n",
    "\n"
   ]
  },
  {
   "cell_type": "code",
   "execution_count": 24,
   "metadata": {},
   "outputs": [
    {
     "name": "stdout",
     "output_type": "stream",
     "text": [
      "Displaying the 2021 sales data:\n",
      "         retailer  retailer_id invoice_date     region         state  \\\n",
      "0       West Gear      1128299       1/1/21       West    California   \n",
      "1       West Gear      1128299       1/1/21       West    California   \n",
      "2          Kohl's      1189833       1/1/21    Midwest       Montana   \n",
      "3          Kohl's      1189833       1/1/21    Midwest       Montana   \n",
      "4       West Gear      1128299       1/1/21       West    California   \n",
      "...           ...          ...          ...        ...           ...   \n",
      "8341  Foot Locker      1185732     12/31/21  Northeast  Pennsylvania   \n",
      "8342  Foot Locker      1185732     12/31/21  Northeast  Pennsylvania   \n",
      "8343       Amazon      1185732     12/31/21  Northeast         Maine   \n",
      "8344       Amazon      1185732     12/31/21  Northeast         Maine   \n",
      "8345  Foot Locker      1185732     12/31/21  Northeast  Pennsylvania   \n",
      "\n",
      "               city                  product  price_per_unit  units_sold  \\\n",
      "0     San Francisco  Men's Athletic Footwear              65         750   \n",
      "1     San Francisco  Men's Athletic Footwear              51         233   \n",
      "2          Billings            Men's Apparel              50         275   \n",
      "3          Billings            Men's Apparel              47          77   \n",
      "4     San Francisco  Men's Athletic Footwear              64         225   \n",
      "...             ...                      ...             ...         ...   \n",
      "8341   Philadelphia            Men's Apparel              63          47   \n",
      "8342   Philadelphia            Men's Apparel              46          56   \n",
      "8343       Portland            Men's Apparel              52          36   \n",
      "8344       Portland            Men's Apparel              55         125   \n",
      "8345   Philadelphia            Men's Apparel              70         175   \n",
      "\n",
      "      total_sales  operating_profit sales_method  \n",
      "0          487500         121875.00       Outlet  \n",
      "1           11883           3208.41       Outlet  \n",
      "2          137500          82500.00       Outlet  \n",
      "3            3619           2714.25       Online  \n",
      "4           14400           5184.00       Online  \n",
      "...           ...               ...          ...  \n",
      "8341         2961           1362.06       Online  \n",
      "8342         2576           1004.64       Outlet  \n",
      "8343         1872            692.64       Online  \n",
      "8344        68750          17187.50       Outlet  \n",
      "8345       122500          42875.00       Outlet  \n",
      "\n",
      "[8346 rows x 12 columns]\n"
     ]
    }
   ],
   "source": [
    "# Display the 2021 sales DataFrame\n",
    "df_2021 = pd.read_csv('athletic_sales_2021.csv')\n",
    "print(\"Displaying the 2021 sales data:\")\n",
    "print(df_2021)"
   ]
  },
  {
   "cell_type": "markdown",
   "metadata": {},
   "source": [
    "#### Check the data types of each DataFrame"
   ]
  },
  {
   "cell_type": "code",
   "execution_count": 25,
   "metadata": {},
   "outputs": [
    {
     "name": "stdout",
     "output_type": "stream",
     "text": [
      "Data types for the 2020 sales data:\n",
      "retailer             object\n",
      "retailer_id           int64\n",
      "invoice_date         object\n",
      "region               object\n",
      "state                object\n",
      "city                 object\n",
      "product              object\n",
      "price_per_unit        int64\n",
      "units_sold            int64\n",
      "total_sales           int64\n",
      "operating_profit    float64\n",
      "sales_method         object\n",
      "dtype: object\n"
     ]
    }
   ],
   "source": [
    "# Check the 2020 sales data types.\n",
    "print(\"Data types for the 2020 sales data:\")\n",
    "print(df_2020.dtypes)"
   ]
  },
  {
   "cell_type": "code",
   "execution_count": 26,
   "metadata": {},
   "outputs": [
    {
     "name": "stdout",
     "output_type": "stream",
     "text": [
      "Data types for the 2021 sales data:\n",
      "retailer             object\n",
      "retailer_id           int64\n",
      "invoice_date         object\n",
      "region               object\n",
      "state                object\n",
      "city                 object\n",
      "product              object\n",
      "price_per_unit        int64\n",
      "units_sold            int64\n",
      "total_sales           int64\n",
      "operating_profit    float64\n",
      "sales_method         object\n",
      "dtype: object\n"
     ]
    }
   ],
   "source": [
    "# Check the 2021 sales data types.\n",
    "print(\"Data types for the 2021 sales data:\")\n",
    "print(df_2021.dtypes)"
   ]
  },
  {
   "cell_type": "markdown",
   "metadata": {},
   "source": [
    "#### Combine the sales data by rows."
   ]
  },
  {
   "cell_type": "code",
   "execution_count": 27,
   "metadata": {},
   "outputs": [
    {
     "name": "stdout",
     "output_type": "stream",
     "text": [
      "Combined 2020 and 2021 sales data:\n",
      "         retailer  retailer_id invoice_date     region         state  \\\n",
      "0     Foot Locker      1185732       1/1/20  Northeast      New York   \n",
      "1     Foot Locker      1185732       1/1/20  Northeast  Pennsylvania   \n",
      "2     Foot Locker      1185732       1/1/20  Northeast  Pennsylvania   \n",
      "3     Foot Locker      1185732       1/1/20  Northeast      New York   \n",
      "4     Foot Locker      1185732       1/1/20  Northeast  Pennsylvania   \n",
      "...           ...          ...          ...        ...           ...   \n",
      "9638  Foot Locker      1185732     12/31/21  Northeast  Pennsylvania   \n",
      "9639  Foot Locker      1185732     12/31/21  Northeast  Pennsylvania   \n",
      "9640       Amazon      1185732     12/31/21  Northeast         Maine   \n",
      "9641       Amazon      1185732     12/31/21  Northeast         Maine   \n",
      "9642  Foot Locker      1185732     12/31/21  Northeast  Pennsylvania   \n",
      "\n",
      "              city                product  price_per_unit  units_sold  \\\n",
      "0         New York  Men's Street Footwear              50        1200   \n",
      "1     Philadelphia        Women's Apparel              68          83   \n",
      "2     Philadelphia        Women's Apparel              75         275   \n",
      "3         New York  Men's Street Footwear              34         384   \n",
      "4     Philadelphia        Women's Apparel              53          83   \n",
      "...            ...                    ...             ...         ...   \n",
      "9638  Philadelphia          Men's Apparel              63          47   \n",
      "9639  Philadelphia          Men's Apparel              46          56   \n",
      "9640      Portland          Men's Apparel              52          36   \n",
      "9641      Portland          Men's Apparel              55         125   \n",
      "9642  Philadelphia          Men's Apparel              70         175   \n",
      "\n",
      "      total_sales  operating_profit sales_method  \n",
      "0          600000         300000.00     In-store  \n",
      "1            5644           2426.92       Online  \n",
      "2          206250          61875.00       Outlet  \n",
      "3           13056           6789.12       Outlet  \n",
      "4            4399           1407.68       Outlet  \n",
      "...           ...               ...          ...  \n",
      "9638         2961           1362.06       Online  \n",
      "9639         2576           1004.64       Outlet  \n",
      "9640         1872            692.64       Online  \n",
      "9641        68750          17187.50       Outlet  \n",
      "9642       122500          42875.00       Outlet  \n",
      "\n",
      "[9643 rows x 12 columns]\n"
     ]
    }
   ],
   "source": [
    "# Combine the 2020 and 2021 sales DataFrames on the rows and reset the index.\n",
    "combined_df = pd.concat([df_2020, df_2021], axis=0, ignore_index=True)\n",
    "print(\"Combined 2020 and 2021 sales data:\")\n",
    "print(combined_df)"
   ]
  },
  {
   "cell_type": "code",
   "execution_count": 28,
   "metadata": {},
   "outputs": [
    {
     "name": "stdout",
     "output_type": "stream",
     "text": [
      "Check for null values in each column:\n",
      "retailer            False\n",
      "retailer_id         False\n",
      "invoice_date        False\n",
      "region              False\n",
      "state               False\n",
      "city                False\n",
      "product             False\n",
      "price_per_unit      False\n",
      "units_sold          False\n",
      "total_sales         False\n",
      "operating_profit    False\n",
      "sales_method        False\n",
      "dtype: bool\n"
     ]
    }
   ],
   "source": [
    "# Check if any values are null.\n",
    "combined_df = pd.concat([df_2020, df_2021], axis=0, ignore_index=True)\n",
    "null_check = combined_df.isnull().any()\n",
    "print(\"Check for null values in each column:\")\n",
    "print(null_check)"
   ]
  },
  {
   "cell_type": "code",
   "execution_count": 29,
   "metadata": {},
   "outputs": [
    {
     "name": "stdout",
     "output_type": "stream",
     "text": [
      "Data types for each column in the combined DataFrame:\n",
      "retailer             object\n",
      "retailer_id           int64\n",
      "invoice_date         object\n",
      "region               object\n",
      "state                object\n",
      "city                 object\n",
      "product              object\n",
      "price_per_unit        int64\n",
      "units_sold            int64\n",
      "total_sales           int64\n",
      "operating_profit    float64\n",
      "sales_method         object\n",
      "dtype: object\n"
     ]
    }
   ],
   "source": [
    "# Check the data type of each column\n",
    "combined_df = pd.concat([df_2020, df_2021], axis=0, ignore_index=True)\n",
    "print(\"Data types for each column in the combined DataFrame:\")\n",
    "print(combined_df.dtypes)"
   ]
  },
  {
   "cell_type": "code",
   "execution_count": 30,
   "metadata": {},
   "outputs": [
    {
     "name": "stdout",
     "output_type": "stream",
     "text": [
      "Updated data types in the combined DataFrame:\n",
      "retailer                    object\n",
      "retailer_id                  int64\n",
      "invoice_date        datetime64[ns]\n",
      "region                      object\n",
      "state                       object\n",
      "city                        object\n",
      "product                     object\n",
      "price_per_unit               int64\n",
      "units_sold                   int64\n",
      "total_sales                  int64\n",
      "operating_profit           float64\n",
      "sales_method                object\n",
      "dtype: object\n"
     ]
    },
    {
     "name": "stderr",
     "output_type": "stream",
     "text": [
      "C:\\Users\\sharm\\AppData\\Local\\Temp\\ipykernel_6040\\3132731404.py:3: UserWarning: Could not infer format, so each element will be parsed individually, falling back to `dateutil`. To ensure parsing is consistent and as-expected, please specify a format.\n",
      "  combined_df['invoice_date'] = pd.to_datetime(combined_df['invoice_date'])\n"
     ]
    }
   ],
   "source": [
    "# Convert the \"invoice_date\" to a datetime datatype\n",
    "combined_df = pd.concat([df_2020, df_2021], axis=0, ignore_index=True)\n",
    "combined_df['invoice_date'] = pd.to_datetime(combined_df['invoice_date'])\n",
    "print(\"Updated data types in the combined DataFrame:\")\n",
    "print(combined_df.dtypes)"
   ]
  },
  {
   "cell_type": "code",
   "execution_count": 31,
   "metadata": {},
   "outputs": [
    {
     "name": "stdout",
     "output_type": "stream",
     "text": [
      "Data type of 'invoice_date':\n",
      "datetime64[ns]\n"
     ]
    }
   ],
   "source": [
    "# Confirm that the \"invoice_date\" data type has been changed.\n",
    "print(\"Data type of 'invoice_date':\")\n",
    "print(combined_df['invoice_date'].dtype)"
   ]
  },
  {
   "cell_type": "markdown",
   "metadata": {},
   "source": [
    "### 2. Determine which Region Sold the Most Products"
   ]
  },
  {
   "cell_type": "markdown",
   "metadata": {},
   "source": [
    "#### Using `groupby`"
   ]
  },
  {
   "cell_type": "code",
   "execution_count": 36,
   "metadata": {},
   "outputs": [
    {
     "name": "stdout",
     "output_type": "stream",
     "text": [
      "Top 5 regions, states, and cities by products sold:\n",
      "       region       state           city  Total_Products_Sold\n",
      "21  Northeast    New York       New York               111954\n",
      "33      South       Texas        Houston                90322\n",
      "44       West  California  San Francisco                85478\n",
      "43       West  California    Los Angeles                76384\n",
      "34  Southeast     Florida          Miami                73135\n"
     ]
    }
   ],
   "source": [
    "# Show the number products sold for region, state, and city. using groupby\n",
    "# Rename the sum to \"Total_Products_Sold\".\n",
    "combined_df = pd.concat([df_2020, df_2021], axis=0, ignore_index=True)\n",
    "\n",
    "# Grouping the data by region, state, and city, and summing the quantities\n",
    "grouped_data = combined_df.groupby(['region', 'state', 'city'])['units_sold'].sum().reset_index(name='Total_Products_Sold')\n",
    "\n",
    "\n",
    "\n",
    "\n",
    "# Show the top 5 results.\n",
    "top_five_sales = grouped_data.sort_values('Total_Products_Sold', ascending=False).head(5)  \n",
    "print(\"Top 5 regions, states, and cities by products sold:\")\n",
    "print(top_five_sales)\n"
   ]
  },
  {
   "cell_type": "markdown",
   "metadata": {},
   "source": [
    "#### Using `pivot_table`"
   ]
  },
  {
   "cell_type": "code",
   "execution_count": 39,
   "metadata": {},
   "outputs": [
    {
     "name": "stdout",
     "output_type": "stream",
     "text": [
      "Top 5 regions, states, and cities by products sold:\n",
      "                                    Total_Products_Sold\n",
      "region    state      city                              \n",
      "Northeast New York   New York                    111954\n",
      "South     Texas      Houston                      90322\n",
      "West      California San Francisco                85478\n",
      "                     Los Angeles                  76384\n",
      "Southeast Florida    Miami                        73135\n"
     ]
    }
   ],
   "source": [
    "# Show the number products sold for region, state, and city.\n",
    "# Rename the \"units_sold\" column to \"Total_Products_Sold\"\n",
    "pivot_table = combined_df.pivot_table(index=['region', 'state', 'city'], \n",
    "                                      values='units_sold', \n",
    "                                      aggfunc='sum').rename(columns={'units_sold': 'Total_Products_Sold'})\n",
    "\n",
    "# Rename the \"units_sold\" column to \"Total_Products_Sold\"\n",
    "\n",
    "\n",
    "# Display the top 5 results\n",
    "top_five_sales = pivot_table.sort_values('Total_Products_Sold', ascending=False).head(5)\n",
    "print(\"Top 5 regions, states, and cities by products sold:\")\n",
    "print(top_five_sales)"
   ]
  },
  {
   "cell_type": "markdown",
   "metadata": {},
   "source": [
    "### 3. Determine which Region had the Most Sales"
   ]
  },
  {
   "cell_type": "markdown",
   "metadata": {},
   "source": [
    "#### Using `groupby`"
   ]
  },
  {
   "cell_type": "code",
   "execution_count": 44,
   "metadata": {},
   "outputs": [
    {
     "name": "stdout",
     "output_type": "stream",
     "text": [
      "Top 5 regions, states, and cities by total sales:\n",
      "       region       state           city  Total Sales\n",
      "21  Northeast    New York       New York      5676160\n",
      "44       West  California  San Francisco      4849228\n",
      "35  Southeast     Florida        Orlando      3946476\n",
      "34  Southeast     Florida          Miami      3874113\n",
      "43       West  California    Los Angeles      3651288\n"
     ]
    }
   ],
   "source": [
    "# Show the total sales for the products sold for each region, state, and city.\n",
    "# Rename the \"total_sales\" column to \"Total Sales\"\n",
    "combined_df['total_sales'] = combined_df['units_sold'] * combined_df['price_per_unit']\n",
    "grouped_sales = combined_df.groupby(['region', 'state', 'city'])['total_sales'].sum().reset_index(name='Total Sales')\n",
    "# Show the top 5 results.\n",
    "top_five_sales = grouped_sales.sort_values('Total Sales', ascending=False).head(5)\n",
    "print(\"Top 5 regions, states, and cities by total sales:\")\n",
    "print(top_five_sales)"
   ]
  },
  {
   "cell_type": "markdown",
   "metadata": {},
   "source": [
    "#### Using `pivot_table`"
   ]
  },
  {
   "cell_type": "code",
   "execution_count": 46,
   "metadata": {},
   "outputs": [
    {
     "name": "stdout",
     "output_type": "stream",
     "text": [
      "Top 5 regions, states, and cities by total sales:\n",
      "                                    Total Sales\n",
      "region    state      city                      \n",
      "Northeast New York   New York            111954\n",
      "South     Texas      Houston              90322\n",
      "West      California San Francisco        85478\n",
      "                     Los Angeles          76384\n",
      "Southeast Florida    Miami                73135\n"
     ]
    }
   ],
   "source": [
    "# Show the total sales for the products sold for each region, state, and city.\n",
    "combined_df['Total Sales'] = combined_df['units_sold'] * combined_df.get('unit_price', 1)  # defaults to 1 if no unit_price column\n",
    "\n",
    "\n",
    "# Optional: Rename the \"total_sales\" column to \"Total Sales\"\n",
    "pivot_table = combined_df.pivot_table(index=['region', 'state', 'city'],\n",
    "                                      values='Total Sales',\n",
    "                                      aggfunc='sum')\n",
    "\n",
    "# Show the top 5 results\n",
    "\n",
    "top_five_sales = pivot_table.sort_values('Total Sales', ascending=False).head(5)\n",
    "\n",
    "\n",
    "print(\"Top 5 regions, states, and cities by total sales:\")\n",
    "print(top_five_sales)"
   ]
  },
  {
   "cell_type": "markdown",
   "metadata": {
    "jp-MarkdownHeadingCollapsed": true,
    "tags": []
   },
   "source": [
    "### 4. Determine which Retailer had the Most Sales"
   ]
  },
  {
   "cell_type": "markdown",
   "metadata": {},
   "source": [
    "#### Using `groupby`"
   ]
  },
  {
   "cell_type": "code",
   "execution_count": 48,
   "metadata": {},
   "outputs": [
    {
     "name": "stdout",
     "output_type": "stream",
     "text": [
      "Top 5 results for total sales by retailer, region, state, and city:\n",
      "        retailer     region           state           city  Total Sales\n",
      "103    West Gear       West      California  San Francisco      4680655\n",
      "50        Kohl's       West      California    Los Angeles      3578910\n",
      "22   Foot Locker  Northeast        New York       New York      3554143\n",
      "33   Foot Locker  Southeast  South Carolina     Charleston      3048130\n",
      "107    West Gear       West          Oregon       Portland      3047049\n"
     ]
    }
   ],
   "source": [
    "# Show the total sales for the products sold for each retailer, region, state, and city.\n",
    "# Rename the \"total_sales\" column to \"Total Sales\"\n",
    "combined_df['total_sales'] = combined_df['units_sold'] * combined_df['price_per_unit']\n",
    "grouped_sales = combined_df.groupby(['retailer', 'region', 'state', 'city'])['total_sales'].sum().reset_index(name='Total Sales')\n",
    "top_five_sales = grouped_sales.sort_values('Total Sales', ascending=False).head(5)\n",
    "# Show the top 5 results.\n",
    "print(\"Top 5 results for total sales by retailer, region, state, and city:\")\n",
    "print(top_five_sales)"
   ]
  },
  {
   "cell_type": "markdown",
   "metadata": {},
   "source": [
    "#### Using `pivot_table`"
   ]
  },
  {
   "cell_type": "code",
   "execution_count": 51,
   "metadata": {},
   "outputs": [
    {
     "name": "stdout",
     "output_type": "stream",
     "text": [
      "Top 5 results for total sales by retailer, region, state, and city:\n",
      "        retailer     region           state           city  Total Sales\n",
      "103    West Gear       West      California  San Francisco      4680655\n",
      "50        Kohl's       West      California    Los Angeles      3578910\n",
      "22   Foot Locker  Northeast        New York       New York      3554143\n",
      "33   Foot Locker  Southeast  South Carolina     Charleston      3048130\n",
      "107    West Gear       West          Oregon       Portland      3047049\n"
     ]
    }
   ],
   "source": [
    "# Show the total sales for the products sold for each retailer, region, state, and city.\n",
    "# Optional: Rename the \"total_sales\" column to \"Total Sales\"\n",
    "combined_df['total_sales'] = combined_df['units_sold'] * combined_df['price_per_unit']\n",
    "grouped_sales = combined_df.groupby(['retailer', 'region', 'state', 'city'])['total_sales'].sum().reset_index(name='Total Sales')\n",
    "\n",
    "# Display the top 5 results\n",
    "top_five_sales = grouped_sales.sort_values('Total Sales', ascending=False).head(5)\n",
    "print(\"Top 5 results for total sales by retailer, region, state, and city:\")\n",
    "print(top_five_sales)\n"
   ]
  },
  {
   "cell_type": "markdown",
   "metadata": {},
   "source": [
    "### 5. Determine which Retailer Sold the Most Women's Athletic Footwear"
   ]
  },
  {
   "cell_type": "code",
   "execution_count": 54,
   "metadata": {},
   "outputs": [
    {
     "name": "stdout",
     "output_type": "stream",
     "text": [
      "Retailer that sold the most Women's Athletic Footwear:\n",
      "    retailer  Total Sales\n",
      "5  West Gear      4025943\n"
     ]
    }
   ],
   "source": [
    "# Filter the sales data to get the women's athletic footwear sales data.\n",
    "\n",
    "\n",
    "\n",
    "# Filter the DataFrame for women's athletic footwear\n",
    "womens_footwear_sales = combined_df[combined_df['product'] == \"Women's Athletic Footwear\"]\n",
    "\n",
    "# Calculate total sales for each retailer\n",
    "retailer_sales = womens_footwear_sales.groupby('retailer')['total_sales'].sum().reset_index(name='Total Sales')\n",
    "\n",
    "# Determine which retailer sold the most\n",
    "top_retailer = retailer_sales.sort_values('Total Sales', ascending=False).head(1)\n",
    "\n",
    "# Display the retailer that sold the most women's athletic footwear\n",
    "print(\"Retailer that sold the most Women's Athletic Footwear:\")\n",
    "print(top_retailer)"
   ]
  },
  {
   "cell_type": "markdown",
   "metadata": {},
   "source": [
    "#### Using `groupby`"
   ]
  },
  {
   "cell_type": "code",
   "execution_count": 61,
   "metadata": {},
   "outputs": [
    {
     "name": "stdout",
     "output_type": "stream",
     "text": [
      "Top 5 results for total number of women's athletic footwear sold by retailer, region, state, and city:\n",
      "          retailer     region           state           city  \\\n",
      "101      West Gear       West      California  San Francisco   \n",
      "22     Foot Locker  Northeast        New York       New York   \n",
      "49          Kohl's       West      California    Los Angeles   \n",
      "33     Foot Locker  Southeast  South Carolina     Charleston   \n",
      "68   Sports Direct      South           Texas         Dallas   \n",
      "\n",
      "     Womens_Footwear_Units_Sold  \n",
      "101                       12107  \n",
      "22                        10996  \n",
      "49                        10826  \n",
      "33                         8814  \n",
      "68                         8790  \n"
     ]
    }
   ],
   "source": [
    "# Show the total number of women's athletic footwear sold for each retailer, region, state, and city.\n",
    "# Rename the \"units_sold\" column to \"Womens_Footwear_Units_Sold\"\n",
    "\n",
    "# Show the top 5 results.\n",
    "womens_footwear_sales = combined_df[combined_df['product'] == \"Women's Athletic Footwear\"]\n",
    "\n",
    "# Group the data by retailer, region, state, and city, and sum the quantities\n",
    "grouped_sales = womens_footwear_sales.groupby(['retailer', 'region', 'state', 'city'])['units_sold'].sum().reset_index(name='Womens_Footwear_Units_Sold')\n",
    "\n",
    "# Sorting the grouped data by 'Womens_Footwear_Units_Sold' in descending order and displaying the top 5 results\n",
    "top_five_sales = grouped_sales.sort_values('Womens_Footwear_Units_Sold', ascending=False).head(5)\n",
    "\n",
    "# Display the top 5 results\n",
    "print(\"Top 5 results for total number of women's athletic footwear sold by retailer, region, state, and city:\")\n",
    "print(top_five_sales)"
   ]
  },
  {
   "cell_type": "markdown",
   "metadata": {},
   "source": [
    "#### Using `pivot_table`"
   ]
  },
  {
   "cell_type": "code",
   "execution_count": 59,
   "metadata": {},
   "outputs": [
    {
     "name": "stdout",
     "output_type": "stream",
     "text": [
      "Top 5 results for total number of women's athletic footwear sold by retailer, region, state, and city:\n",
      "                                                      Womens_Footwear_Units_Sold\n",
      "retailer      region    state          city                                     \n",
      "West Gear     West      California     San Francisco                       12107\n",
      "Foot Locker   Northeast New York       New York                            10996\n",
      "Kohl's        West      California     Los Angeles                         10826\n",
      "Foot Locker   Southeast South Carolina Charleston                           8814\n",
      "Sports Direct South     Texas          Dallas                               8790\n"
     ]
    }
   ],
   "source": [
    "# Show the total number of women's athletic footwear sold for each retailer, region, state, and city.\n",
    "\n",
    "\n",
    "# Rename the \"units_sold\" column to \"Womens_Footwear_Units_Sold\"\n",
    "\n",
    "\n",
    "# Filter the DataFrame for women's athletic footwear\n",
    "womens_footwear_sales = combined_df[combined_df['product'] == \"Women's Athletic Footwear\"]\n",
    "\n",
    "# Create a pivot table\n",
    "pivot_table = womens_footwear_sales.pivot_table(index=['retailer', 'region', 'state', 'city'],\n",
    "                                                values='units_sold',\n",
    "                                                aggfunc='sum',\n",
    "                                                fill_value=0).rename(columns={'units_sold': 'Womens_Footwear_Units_Sold'})\n",
    "\n",
    "# Sorting the pivot table by 'Womens_Footwear_Units_Sold' in descending order and showing the top 5 results\n",
    "top_five_sales = pivot_table.sort_values('Womens_Footwear_Units_Sold', ascending=False).head(5)\n",
    "\n",
    "# Display the top 5 results\n",
    "print(\"Top 5 results for total number of women's athletic footwear sold by retailer, region, state, and city:\")\n",
    "print(top_five_sales)\n"
   ]
  },
  {
   "cell_type": "markdown",
   "metadata": {},
   "source": [
    "### 5. Determine the Day with the Most Women's Athletic Footwear Sales"
   ]
  },
  {
   "cell_type": "code",
   "execution_count": 60,
   "metadata": {},
   "outputs": [
    {
     "name": "stdout",
     "output_type": "stream",
     "text": [
      "Sales of Women's Athletic Footwear by Day:\n",
      "              Total Sales\n",
      "invoice_date             \n",
      "2020-01-04          58493\n",
      "2020-01-05          20301\n",
      "2020-01-11          18181\n",
      "2020-01-17          24513\n",
      "2020-01-22          54125\n",
      "...                   ...\n",
      "2021-12-22          28281\n",
      "2021-12-23         115022\n",
      "2021-12-24          25510\n",
      "2021-12-25          45175\n",
      "2021-12-30          22778\n",
      "\n",
      "[355 rows x 1 columns]\n"
     ]
    },
    {
     "name": "stderr",
     "output_type": "stream",
     "text": [
      "C:\\Users\\sharm\\AppData\\Local\\Temp\\ipykernel_6040\\3557556968.py:9: UserWarning: Could not infer format, so each element will be parsed individually, falling back to `dateutil`. To ensure parsing is consistent and as-expected, please specify a format.\n",
      "  combined_df['invoice_date'] = pd.to_datetime(combined_df['invoice_date'])\n"
     ]
    }
   ],
   "source": [
    "# Create a pivot table with the 'invoice_date' column is the index, and the \"total_sales\" as the values.\n",
    "\n",
    "\n",
    "# Optional: Rename the \"total_sales\" column to \"Total Sales\"\n",
    "\n",
    "\n",
    "\n",
    "# Convert 'invoice_date' to datetime if it's not already\n",
    "combined_df['invoice_date'] = pd.to_datetime(combined_df['invoice_date'])\n",
    "\n",
    "# Filter for women's athletic footwear\n",
    "womens_footwear_sales = combined_df[combined_df['product'] == \"Women's Athletic Footwear\"]\n",
    "\n",
    "\n",
    "# Create a pivot table\n",
    "pivot_table = womens_footwear_sales.pivot_table(index='invoice_date',\n",
    "                                                values='total_sales',\n",
    "                                                aggfunc='sum').rename(columns={'total_sales': 'Total Sales'})\n",
    "\n",
    "# Display the pivot table\n",
    "print(\"Sales of Women's Athletic Footwear by Day:\")\n",
    "print(pivot_table)"
   ]
  },
  {
   "cell_type": "code",
   "execution_count": 62,
   "metadata": {},
   "outputs": [
    {
     "name": "stdout",
     "output_type": "stream",
     "text": [
      "            total_sales\n",
      "date                   \n",
      "2023-01-01          700\n"
     ]
    }
   ],
   "source": [
    "# Resample the pivot table into daily bins, and get the total sales for each day.\n",
    "\n",
    "\n",
    "# Sort the resampled pivot table in ascending order on \"Total Sales\".\n",
    "data = {\n",
    "    'date': pd.date_range(start='2023-01-01', periods=4, freq='6H'),\n",
    "    'total_sales': [100, 150, 200, 250]\n",
    "}\n",
    "df = pd.DataFrame(data)\n",
    "\n",
    "# Convert 'date' column to datetime index if it's not already\n",
    "df['date'] = pd.to_datetime(df['date'])\n",
    "df.set_index('date', inplace=True)\n",
    "\n",
    "# Resample the DataFrame to daily bins and sum the 'total_sales'\n",
    "daily_sales = df.resample('D').sum()\n",
    "\n",
    "# Sort the resampled DataFrame by 'total_sales' in ascending order\n",
    "sorted_daily_sales = daily_sales.sort_values(by='total_sales')\n",
    "\n",
    "# Display the sorted DataFrame\n",
    "print(sorted_daily_sales)"
   ]
  },
  {
   "cell_type": "markdown",
   "metadata": {},
   "source": [
    "### 6.  Determine the Week with the Most Women's Athletic Footwear Sales"
   ]
  },
  {
   "cell_type": "code",
   "execution_count": 64,
   "metadata": {},
   "outputs": [
    {
     "name": "stdout",
     "output_type": "stream",
     "text": [
      "            women_athletic_footwear_sales\n",
      "date                                     \n",
      "2023-01-29                           2590\n",
      "2023-01-22                           1970\n",
      "2023-01-15                           1500\n",
      "2023-01-08                           1110\n",
      "2023-02-05                            410\n"
     ]
    }
   ],
   "source": [
    "# Resample the pivot table into weekly bins, and get the total sales for each week.\n",
    "\n",
    "\n",
    "# Sort the resampled pivot table in ascending order on \"Total Sales\".\n",
    "data = {\n",
    "    'date': pd.date_range(start='2023-01-01', periods=30, freq='D'),\n",
    "    'women_athletic_footwear_sales': [100, 150, 120, 130, 200, 170, 160, 180, 210, 190, \n",
    "                                      200, 220, 240, 230, 210, 250, 260, 270, 280, 290,\n",
    "                                      300, 320, 340, 350, 360, 370, 380, 390, 400, 410]\n",
    "}\n",
    "df = pd.DataFrame(data)\n",
    "\n",
    "# Ensure the 'date' column is a datetime type and set it as the index\n",
    "df['date'] = pd.to_datetime(df['date'])\n",
    "df.set_index('date', inplace=True)\n",
    "\n",
    "# Resample the DataFrame into weekly bins and sum the sales for each week\n",
    "weekly_sales = df.resample('W').sum()\n",
    "\n",
    "# Sort the weekly resampled DataFrame by sales in descending order to find the top weeks\n",
    "sorted_weekly_sales = weekly_sales.sort_values(by='women_athletic_footwear_sales', ascending=False)\n",
    "\n",
    "# Display the top week for Women's Athletic Footwear Sales\n",
    "print(sorted_weekly_sales.head())  # Shows only the top week"
   ]
  },
  {
   "cell_type": "code",
   "execution_count": null,
   "metadata": {},
   "outputs": [],
   "source": []
  }
 ],
 "metadata": {
  "kernelspec": {
   "display_name": "Python 3 (ipykernel)",
   "language": "python",
   "name": "python3"
  },
  "language_info": {
   "codemirror_mode": {
    "name": "ipython",
    "version": 3
   },
   "file_extension": ".py",
   "mimetype": "text/x-python",
   "name": "python",
   "nbconvert_exporter": "python",
   "pygments_lexer": "ipython3",
   "version": "3.10.13"
  }
 },
 "nbformat": 4,
 "nbformat_minor": 4
}
